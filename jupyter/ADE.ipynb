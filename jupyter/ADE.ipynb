{
 "cells": [
  {
   "cell_type": "code",
   "execution_count": 2,
   "metadata": {},
   "outputs": [],
   "source": [
    "import sys\n",
    "sys.path.append(\"..\")\n",
    "import random"
   ]
  },
  {
   "cell_type": "code",
   "execution_count": 1,
   "metadata": {},
   "outputs": [
    {
     "ename": "ModuleNotFoundError",
     "evalue": "No module named 'dataset'",
     "output_type": "error",
     "traceback": [
      "\u001b[0;31m---------------------------------------------------------------------------\u001b[0m",
      "\u001b[0;31mModuleNotFoundError\u001b[0m                       Traceback (most recent call last)",
      "\u001b[0;32m<ipython-input-1-bede9d474cae>\u001b[0m in \u001b[0;36m<module>\u001b[0;34m\u001b[0m\n\u001b[0;32m----> 1\u001b[0;31m \u001b[0;32mimport\u001b[0m \u001b[0mdataset\u001b[0m\u001b[0;34m.\u001b[0m\u001b[0made\u001b[0m \u001b[0;32mas\u001b[0m \u001b[0made\u001b[0m\u001b[0;34m\u001b[0m\u001b[0;34m\u001b[0m\u001b[0m\n\u001b[0m\u001b[1;32m      2\u001b[0m \u001b[0;32mfrom\u001b[0m \u001b[0mdataset\u001b[0m\u001b[0;34m.\u001b[0m\u001b[0made\u001b[0m \u001b[0;32mimport\u001b[0m \u001b[0mAdeSegmentationIncremental\u001b[0m\u001b[0;34m\u001b[0m\u001b[0;34m\u001b[0m\u001b[0m\n\u001b[1;32m      3\u001b[0m \u001b[0;32mfrom\u001b[0m \u001b[0mdataset\u001b[0m\u001b[0;34m.\u001b[0m\u001b[0mvoc\u001b[0m \u001b[0;32mimport\u001b[0m \u001b[0mVocSegmentationIncremental\u001b[0m\u001b[0;34m\u001b[0m\u001b[0;34m\u001b[0m\u001b[0m\n\u001b[1;32m      4\u001b[0m \u001b[0;32mimport\u001b[0m \u001b[0mdataset\u001b[0m\u001b[0;34m.\u001b[0m\u001b[0mtransform\u001b[0m \u001b[0;32mas\u001b[0m \u001b[0mtransforms\u001b[0m\u001b[0;34m\u001b[0m\u001b[0;34m\u001b[0m\u001b[0m\n\u001b[1;32m      5\u001b[0m \u001b[0;32mimport\u001b[0m \u001b[0mtorchvision\u001b[0m \u001b[0;32mas\u001b[0m \u001b[0mtv\u001b[0m\u001b[0;34m\u001b[0m\u001b[0;34m\u001b[0m\u001b[0m\n",
      "\u001b[0;31mModuleNotFoundError\u001b[0m: No module named 'dataset'"
     ]
    }
   ],
   "source": [
    "import dataset.ade as ade\n",
    "from dataset.ade import AdeSegmentationIncremental\n",
    "import dataset.transform as transforms\n",
    "import torchvision as tv\n",
    "import numpy as np\n",
    "import os"
   ]
  },
  {
   "cell_type": "code",
   "execution_count": 4,
   "metadata": {},
   "outputs": [],
   "source": [
    "data = ade.AdeSegmentation('/vandal/datasets', train=True)\n"
   ]
  },
  {
   "cell_type": "code",
   "execution_count": 5,
   "metadata": {},
   "outputs": [
    {
     "name": "stdout",
     "output_type": "stream",
     "text": [
      "Done 0 / 20210\n",
      "Done 1000 / 20210\n",
      "Done 2000 / 20210\n",
      "Done 3000 / 20210\n",
      "Done 4000 / 20210\n",
      "Done 5000 / 20210\n",
      "Done 6000 / 20210\n",
      "Done 7000 / 20210\n",
      "Done 8000 / 20210\n",
      "Done 9000 / 20210\n",
      "Done 10000 / 20210\n",
      "Done 11000 / 20210\n",
      "Done 12000 / 20210\n",
      "Done 13000 / 20210\n",
      "Done 14000 / 20210\n",
      "Done 15000 / 20210\n",
      "Done 16000 / 20210\n",
      "Done 17000 / 20210\n",
      "Done 18000 / 20210\n",
      "Done 19000 / 20210\n",
      "Done 20000 / 20210\n"
     ]
    }
   ],
   "source": [
    "def group_images(dataset, labels):\n",
    "    # Group images based on the label in LABELS\n",
    "    idxs = [[] for lab in labels]\n",
    "\n",
    "    labels_cum = labels + [0, 255]\n",
    "    for i in range(len(dataset)):\n",
    "        cls = np.unique(np.array(dataset[i][1]))\n",
    "        if all(x in labels_cum for x in cls):\n",
    "            for x in cls:\n",
    "                if x in labels:\n",
    "                    idxs[x].append(i)\n",
    "        else:\n",
    "            print(f\"Not all in labels_cum: {cls}\")\n",
    "        if i % 1000 == 0:\n",
    "            print(f\"Done {i} / {len(dataset)}\")\n",
    "    return idxs\n",
    "\n",
    "idxs = group_images(data, list(range(151)))\n"
   ]
  },
  {
   "cell_type": "code",
   "execution_count": 6,
   "metadata": {},
   "outputs": [
    {
     "name": "stdout",
     "output_type": "stream",
     "text": [
      "[20208, 11588, 6042, 8240, 9314, 6674, 6579, 3990, 1825, 4687, 2421, 2851, 3061, 5069, 1791, 3276, 4266, 1690, 3995, 2148, 3258, 3161, 702, 3295, 1191, 1404, 667, 650, 1229, 1132, 479, 1172, 521, 1385, 698, 781, 378, 3083, 404, 803, 1447, 411, 1437, 799, 2646, 549, 367, 310, 1181, 287, 468, 402, 130, 561, 880, 84, 172, 198, 930, 139, 564, 320, 261, 275, 335, 792, 395, 1308, 1112, 266, 658, 330, 531, 369, 144, 265, 324, 304, 170, 68, 65, 247, 492, 2508, 440, 135, 583, 532, 1987, 71, 618, 133, 83, 178, 992, 181, 451, 41, 307, 965, 117, 354, 108, 556, 52, 99, 57, 66, 77, 340, 66, 465, 50, 622, 80, 59, 530, 282, 73, 213, 136, 116, 266, 58, 417, 319, 1191, 97, 347, 52, 246, 108, 201, 284, 268, 1020, 1281, 528, 452, 671, 397, 92, 228, 556, 217, 206, 126, 178, 504, 773, 421]\n"
     ]
    }
   ],
   "source": [
    "len_idxs = [len(idxs[i]) for i in range(151)]\n",
    "print(len_idxs)"
   ]
  },
  {
   "cell_type": "code",
   "execution_count": 7,
   "metadata": {},
   "outputs": [
    {
     "data": {
      "text/plain": [
       "(0, 6736)"
      ]
     },
     "execution_count": 7,
     "metadata": {},
     "output_type": "execute_result"
    }
   ],
   "source": [
    "# step 1 - init\n",
    "# parameters\n",
    "exemplar = 100\n",
    "cl = list(range(101, 151))\n",
    "full_len_incr = int(len(data) * len(cl)/150)\n",
    "random.seed(42)\n",
    "group_idxs = idxs  # call previous function group_images to compute this.\n",
    "\n",
    "new = set()\n",
    "all_new = set()\n",
    "all_old = set()\n",
    "for cl in range(1, 101):\n",
    "    all_old.update(idxs[cl])\n",
    "\n",
    "len(new), full_len_incr"
   ]
  },
  {
   "cell_type": "code",
   "execution_count": 8,
   "metadata": {},
   "outputs": [
    {
     "data": {
      "text/plain": [
       "4523"
      ]
     },
     "execution_count": 8,
     "metadata": {},
     "output_type": "execute_result"
    }
   ],
   "source": [
    "# step 2 - sample e images from each class\n",
    "for cl in range(101, 151):\n",
    "    all_new.update(idxs[cl])\n",
    "    # here we must put the exemplar selection: for each class (taken from filter images)\n",
    "    class_idx = set(group_idxs[cl]).difference(new)\n",
    "    idx_cl = random.sample(class_idx, min(exemplar, len(class_idx)))  # we use random here!\n",
    "    new.update(idx_cl)\n",
    "\n",
    "len(new)"
   ]
  },
  {
   "cell_type": "code",
   "execution_count": 9,
   "metadata": {},
   "outputs": [
    {
     "data": {
      "text/plain": [
       "4523"
      ]
     },
     "execution_count": 9,
     "metadata": {},
     "output_type": "execute_result"
    }
   ],
   "source": [
    "# step 3 - add all images excluded from new without labels in the first set\n",
    "new.update(all_new.difference(all_old))\n",
    "\n",
    "len(new)"
   ]
  },
  {
   "cell_type": "code",
   "execution_count": 10,
   "metadata": {},
   "outputs": [
    {
     "data": {
      "text/plain": [
       "6736"
      ]
     },
     "execution_count": 10,
     "metadata": {},
     "output_type": "execute_result"
    }
   ],
   "source": [
    "# step 4 - add remining images to get the desired lenght\n",
    "while len(new) < full_len_incr:\n",
    "    additionals_idxs = random.sample(all_new, full_len_incr - len(new))\n",
    "    new.update(additionals_idxs)\n",
    "len(new) "
   ]
  },
  {
   "cell_type": "code",
   "execution_count": 11,
   "metadata": {},
   "outputs": [
    {
     "data": {
      "text/plain": [
       "13460"
      ]
     },
     "execution_count": 11,
     "metadata": {},
     "output_type": "execute_result"
    }
   ],
   "source": [
    "first = all_old.difference(new)\n",
    "len(first)"
   ]
  },
  {
   "cell_type": "code",
   "execution_count": 12,
   "metadata": {},
   "outputs": [
    {
     "data": {
      "text/plain": [
       "20196"
      ]
     },
     "execution_count": 12,
     "metadata": {},
     "output_type": "execute_result"
    }
   ],
   "source": [
    "len(first) + len(new) # -> should be 20210"
   ]
  },
  {
   "cell_type": "code",
   "execution_count": 104,
   "metadata": {},
   "outputs": [],
   "source": [
    "os.makedirs(\"../data/ade/100-50-w\", exist_ok=True)\n",
    "np.save(\"../data/ade/100-50-w/train-0.npy\", np.array(list(first)))\n",
    "np.save(\"../data/ade/100-50-w/train-1.npy\", np.array(list(new)))"
   ]
  },
  {
   "cell_type": "code",
   "execution_count": 13,
   "metadata": {},
   "outputs": [],
   "source": [
    "class_members = {}\n",
    "for i,l in enumerate(idxs):\n",
    "    class_members[i]=len(l)\n",
    "    \n",
    "true_length = [11664, 6046, 8265, 9336, 6678, 6604, 4023, 1906, 4688, 2423, 2874, 3068, 5075, 1804, 6666, 4269, 1691, 3999, 2149, 3261, 3164, 709, 3296, 1191, 1516, 667, 651, 1847, 1158, 480, 1172, 1292, 1386, 698, 781, 380, 3089, 404, 804, 1453, 411, 1440, 800, 2650, 549, 367, 311, 1181, 287, 468, 402, 130, 561, 880, 86, 172, 198, 930, 139, 564, 320, 261, 275, 335, 792, 395, 1309, 1112, 266, 659, 331, 531, 369, 144, 265, 324, 304, 170, 68, 65, 248, 492, 2510, 440, 147, 583, 533, 1989, 71, 618, 135, 83, 178, 1003, 182, 452, 42, 307, 965, 117, 354, 108, 557, 52, 99, 57, 292, 77, 340, 66, 465, 50, 622, 80, 59, 531, 282, 73, 435, 136, 116, 266, 58, 418, 319, 1193, 97, 347, 52, 246, 108, 201, 285, 268, 1020, 1282, 528, 453, 671, 397, 92, 228, 570, 217, 206, 130, 178, 504, 775,421]\n",
    "\n",
    "'''for i in range(0,len(true_length)):\n",
    "    if true_length[i]!=class_members[i+1]:\n",
    "        print(i,true_length[i],class_members[i+1])'''\n",
    "\n",
    "#random.seed(42)\n",
    "ordered_classes = (sorted(class_members.items(), key = lambda x : x[1]))\n",
    "imgs_A = set()\n",
    "imgs_B= set()\n",
    "added = {}\n",
    "all_added = set()\n",
    "x=100\n",
    "A = [i for i in range(1,101)]#list(random.sample(set([i for i in range(1,151)]),100))\n",
    "B = [i for i in range(101,151)]\n",
    "\n",
    "\n",
    "# ship,fountain,convey belt, canopy, washer, pool, barrel, waterfall, tent, cradle, tank, animal, lake, dock\n",
    "\n",
    "# runway, hovel, booth, escalator, airplane, dirt track\n",
    "exclude = [92,80,89,97,55,91]\n",
    "\n",
    "# trade name, toy, step, clock, oven, pot\n",
    "include = [124,109,122,149,119, 126]\n",
    "\n",
    "\n",
    "for i,c in ordered_classes:\n",
    "\n",
    "    if (i in A and not i in exclude) or i in include:\n",
    "        class_idx = set(idxs[i]).difference(imgs_A)\n",
    "        ns = random.sample(class_idx, min(x, len(class_idx)))\n",
    "        all_added.update(ns) \n",
    "        imgs_B.update(ns)\n",
    "        added[i] = len(ns)#len(imgs_B)-old\n",
    "    else:\n",
    "        class_idx = set(idxs[i]).difference(imgs_B)\n",
    "        ns = random.sample(class_idx, min(x, len(class_idx)))\n",
    "        all_added.update(ns) \n",
    "        imgs_A.update(ns)\n",
    "        added[i] = len(ns)#len(imgs_A)-old\n",
    "    \n",
    "        \n",
    "for i in range(len(added)):\n",
    "    if(added[i]<x) and added[i]<len(idxs[i]):\n",
    "        print(i,added[i],class_members[i])\n"
   ]
  },
  {
   "cell_type": "code",
   "execution_count": 64,
   "metadata": {},
   "outputs": [
    {
     "name": "stdout",
     "output_type": "stream",
     "text": [
      "531\n",
      "72 32 0.009416195856873822 0.009596928982725527 531 521\n",
      "72 36 0.013182674199623353 0.018518518518518517 531 378\n",
      "72 41 0.0018832391713747645 0.0024330900243309003 531 411\n",
      "72 46 0.04143126177024482 0.05994550408719346 531 367\n",
      "72 50 0.013182674199623353 0.014957264957264958 531 468\n",
      "72 51 0.4331450094161959 0.572139303482587 531 402\n",
      "72 63 0.005649717514124294 0.01090909090909091 531 275\n",
      "72 64 0.035781544256120526 0.056716417910447764 531 335\n",
      "72 71 0.01694915254237288 0.02727272727272727 531 330\n",
      "72 72 1.0 1.0 531 531\n",
      "72 74 0.17702448210922786 0.6527777777777778 531 144\n",
      "72 76 0.003766478342749529 0.006172839506172839 531 324\n",
      "72 78 0.0018832391713747645 0.0058823529411764705 531 170\n",
      "72 82 0.026365348399246705 0.028455284552845527 531 492\n",
      "72 96 0.003766478342749529 0.004434589800443459 531 451\n",
      "72 98 0.003766478342749529 0.006514657980456026 531 307\n",
      "72 100 0.007532956685499058 0.03418803418803419 531 117\n",
      "72 101 0.013182674199623353 0.01977401129943503 531 354\n",
      "72 108 0.01694915254237288 0.11688311688311688 531 77\n",
      "72 109 0.013182674199623353 0.020588235294117647 531 340\n",
      "72 111 0.08662900188323917 0.0989247311827957 531 465\n",
      "72 112 0.0018832391713747645 0.02 531 50\n",
      "72 116 0.02448210922787194 0.024528301886792454 531 530\n",
      "72 119 0.22033898305084745 0.5492957746478874 531 213\n",
      "72 120 0.0018832391713747645 0.007352941176470588 531 136\n",
      "72 121 0.04519774011299435 0.20689655172413793 531 116\n",
      "72 122 0.011299435028248588 0.022556390977443608 531 266\n",
      "72 125 0.423728813559322 0.7053291536050157 531 319\n",
      "72 130 0.3370998116760829 0.7276422764227642 531 246\n",
      "72 132 0.009416195856873822 0.024875621890547265 531 201\n",
      "72 133 0.013182674199623353 0.02464788732394366 531 284\n",
      "72 134 0.4011299435028249 0.7947761194029851 531 268\n",
      "72 138 0.14689265536723164 0.17256637168141592 531 452\n",
      "72 140 0.026365348399246705 0.03526448362720403 531 397\n",
      "72 142 0.009416195856873822 0.021929824561403508 531 228\n",
      "72 144 0.0018832391713747645 0.004608294930875576 531 217\n",
      "72 145 0.0018832391713747645 0.0048543689320388345 531 206\n",
      "72 147 0.009416195856873822 0.028089887640449437 531 178\n",
      "72 148 0.1111111111111111 0.11706349206349206 531 504\n"
     ]
    }
   ],
   "source": [
    "    i=72\n",
    "    set1 = set(idxs[i])\n",
    "    print(len(idxs[i]))\n",
    "    for j in range(1,151):\n",
    "        intersection = set1.intersection(idxs[j])\n",
    "        it = len(intersection)\n",
    "        r1 = (it+0.0)/len(set1)\n",
    "        r2 = (it+0.0)/len(idxs[j])\n",
    "        if r1>0 and (len(set1)>=len(idxs[j])):\n",
    "            print(i,j,r1,r2,len(set1),len(idxs[j]))\n"
   ]
  },
  {
   "cell_type": "markdown",
   "metadata": {},
   "source": [
    "# TEST ADE INCREMENTAL"
   ]
  },
  {
   "cell_type": "code",
   "execution_count": 295,
   "metadata": {},
   "outputs": [
    {
     "name": "stdout",
     "output_type": "stream",
     "text": [
      "Filtering images...\n",
      "\t0/20210 ...\n"
     ]
    },
    {
     "ename": "KeyboardInterrupt",
     "evalue": "",
     "output_type": "error",
     "traceback": [
      "\u001b[0;31m---------------------------------------------------------------------------\u001b[0m",
      "\u001b[0;31mKeyboardInterrupt\u001b[0m                         Traceback (most recent call last)",
      "\u001b[0;32m<ipython-input-295-9ec850db8b3b>\u001b[0m in \u001b[0;36m<module>\u001b[0;34m\u001b[0m\n\u001b[0;32m----> 1\u001b[0;31m \u001b[0mdata_inc\u001b[0m \u001b[0;34m=\u001b[0m \u001b[0mAdeSegmentationIncremental\u001b[0m\u001b[0;34m(\u001b[0m\u001b[0;34m'/vandal/datasets'\u001b[0m\u001b[0;34m,\u001b[0m \u001b[0mlabels\u001b[0m\u001b[0;34m=\u001b[0m\u001b[0;34m[\u001b[0m\u001b[0mx\u001b[0m \u001b[0;32mfor\u001b[0m \u001b[0mx\u001b[0m \u001b[0;32min\u001b[0m \u001b[0mrange\u001b[0m\u001b[0;34m(\u001b[0m\u001b[0;36m101\u001b[0m\u001b[0;34m,\u001b[0m\u001b[0;36m151\u001b[0m\u001b[0;34m)\u001b[0m\u001b[0;34m]\u001b[0m\u001b[0;34m,\u001b[0m \u001b[0mlabels_old\u001b[0m\u001b[0;34m=\u001b[0m\u001b[0;34m[\u001b[0m\u001b[0mx\u001b[0m \u001b[0;32mfor\u001b[0m \u001b[0mx\u001b[0m \u001b[0;32min\u001b[0m \u001b[0mrange\u001b[0m\u001b[0;34m(\u001b[0m\u001b[0;36m101\u001b[0m\u001b[0;34m)\u001b[0m\u001b[0;34m]\u001b[0m\u001b[0;34m,\u001b[0m \u001b[0mmasking\u001b[0m\u001b[0;34m=\u001b[0m\u001b[0;32mTrue\u001b[0m\u001b[0;34m,\u001b[0m \u001b[0mtransform\u001b[0m\u001b[0;34m=\u001b[0m\u001b[0mtransforms\u001b[0m\u001b[0;34m.\u001b[0m\u001b[0mToTensor\u001b[0m\u001b[0;34m(\u001b[0m\u001b[0;34m)\u001b[0m\u001b[0;34m,\u001b[0m \u001b[0midxs_path\u001b[0m\u001b[0;34m=\u001b[0m\u001b[0;34m\"../data/ade/100-50-w/train-1.npy\"\u001b[0m\u001b[0;34m)\u001b[0m\u001b[0;34m\u001b[0m\u001b[0;34m\u001b[0m\u001b[0m\n\u001b[0m\u001b[1;32m      2\u001b[0m \u001b[0;34m\u001b[0m\u001b[0m\n",
      "\u001b[0;32m~/Develop/ILSS/dataset/ade.py\u001b[0m in \u001b[0;36m__init__\u001b[0;34m(self, root, train, transform, labels, labels_old, idxs_path, exemplar, ex_path, masking, overlap)\u001b[0m\n\u001b[1;32m    238\u001b[0m                 \u001b[0midxs\u001b[0m \u001b[0;34m=\u001b[0m \u001b[0mnp\u001b[0m\u001b[0;34m.\u001b[0m\u001b[0mload\u001b[0m\u001b[0;34m(\u001b[0m\u001b[0midxs_path\u001b[0m\u001b[0;34m)\u001b[0m\u001b[0;34m.\u001b[0m\u001b[0mtolist\u001b[0m\u001b[0;34m(\u001b[0m\u001b[0;34m)\u001b[0m\u001b[0;34m\u001b[0m\u001b[0;34m\u001b[0m\u001b[0m\n\u001b[1;32m    239\u001b[0m             \u001b[0;32melse\u001b[0m\u001b[0;34m:\u001b[0m\u001b[0;34m\u001b[0m\u001b[0;34m\u001b[0m\u001b[0m\n\u001b[0;32m--> 240\u001b[0;31m                 \u001b[0midxs\u001b[0m \u001b[0;34m=\u001b[0m \u001b[0mfilter_images\u001b[0m\u001b[0;34m(\u001b[0m\u001b[0mfull_data\u001b[0m\u001b[0;34m,\u001b[0m \u001b[0mself\u001b[0m\u001b[0;34m.\u001b[0m\u001b[0mlabels\u001b[0m\u001b[0;34m,\u001b[0m \u001b[0mself\u001b[0m\u001b[0;34m.\u001b[0m\u001b[0mlabels_old\u001b[0m\u001b[0;34m,\u001b[0m \u001b[0moverlap\u001b[0m\u001b[0;34m=\u001b[0m\u001b[0moverlap\u001b[0m\u001b[0;34m)\u001b[0m\u001b[0;34m\u001b[0m\u001b[0;34m\u001b[0m\u001b[0m\n\u001b[0m\u001b[1;32m    241\u001b[0m                 \u001b[0;32mif\u001b[0m \u001b[0midxs_path\u001b[0m \u001b[0;32mis\u001b[0m \u001b[0;32mnot\u001b[0m \u001b[0;32mNone\u001b[0m \u001b[0;32mand\u001b[0m \u001b[0mdistributed\u001b[0m\u001b[0;34m.\u001b[0m\u001b[0mget_rank\u001b[0m\u001b[0;34m(\u001b[0m\u001b[0;34m)\u001b[0m \u001b[0;34m==\u001b[0m \u001b[0;36m0\u001b[0m\u001b[0;34m:\u001b[0m\u001b[0;34m\u001b[0m\u001b[0;34m\u001b[0m\u001b[0m\n\u001b[1;32m    242\u001b[0m                     \u001b[0mnp\u001b[0m\u001b[0;34m.\u001b[0m\u001b[0msave\u001b[0m\u001b[0;34m(\u001b[0m\u001b[0midxs_path\u001b[0m\u001b[0;34m,\u001b[0m \u001b[0mnp\u001b[0m\u001b[0;34m.\u001b[0m\u001b[0marray\u001b[0m\u001b[0;34m(\u001b[0m\u001b[0midxs\u001b[0m\u001b[0;34m,\u001b[0m \u001b[0mdtype\u001b[0m\u001b[0;34m=\u001b[0m\u001b[0mint\u001b[0m\u001b[0;34m)\u001b[0m\u001b[0;34m)\u001b[0m\u001b[0;34m\u001b[0m\u001b[0;34m\u001b[0m\u001b[0m\n",
      "\u001b[0;32m~/Develop/ILSS/dataset/utils.py\u001b[0m in \u001b[0;36mfilter_images\u001b[0;34m(dataset, labels, labels_old, overlap)\u001b[0m\n\u001b[1;32m     35\u001b[0m \u001b[0;34m\u001b[0m\u001b[0m\n\u001b[1;32m     36\u001b[0m     \u001b[0;32mfor\u001b[0m \u001b[0mi\u001b[0m \u001b[0;32min\u001b[0m \u001b[0mrange\u001b[0m\u001b[0;34m(\u001b[0m\u001b[0mlen\u001b[0m\u001b[0;34m(\u001b[0m\u001b[0mdataset\u001b[0m\u001b[0;34m)\u001b[0m\u001b[0;34m)\u001b[0m\u001b[0;34m:\u001b[0m\u001b[0;34m\u001b[0m\u001b[0;34m\u001b[0m\u001b[0m\n\u001b[0;32m---> 37\u001b[0;31m         \u001b[0mcls\u001b[0m \u001b[0;34m=\u001b[0m \u001b[0mnp\u001b[0m\u001b[0;34m.\u001b[0m\u001b[0munique\u001b[0m\u001b[0;34m(\u001b[0m\u001b[0mnp\u001b[0m\u001b[0;34m.\u001b[0m\u001b[0marray\u001b[0m\u001b[0;34m(\u001b[0m\u001b[0mdataset\u001b[0m\u001b[0;34m[\u001b[0m\u001b[0mi\u001b[0m\u001b[0;34m]\u001b[0m\u001b[0;34m[\u001b[0m\u001b[0;36m1\u001b[0m\u001b[0;34m]\u001b[0m\u001b[0;34m)\u001b[0m\u001b[0;34m)\u001b[0m\u001b[0;34m\u001b[0m\u001b[0;34m\u001b[0m\u001b[0m\n\u001b[0m\u001b[1;32m     38\u001b[0m         \u001b[0;32mif\u001b[0m \u001b[0mfil\u001b[0m\u001b[0;34m(\u001b[0m\u001b[0mcls\u001b[0m\u001b[0;34m)\u001b[0m\u001b[0;34m:\u001b[0m\u001b[0;34m\u001b[0m\u001b[0;34m\u001b[0m\u001b[0m\n\u001b[1;32m     39\u001b[0m             \u001b[0midxs\u001b[0m\u001b[0;34m.\u001b[0m\u001b[0mappend\u001b[0m\u001b[0;34m(\u001b[0m\u001b[0mi\u001b[0m\u001b[0;34m)\u001b[0m\u001b[0;34m\u001b[0m\u001b[0;34m\u001b[0m\u001b[0m\n",
      "\u001b[0;32m~/Develop/ILSS/dataset/ade.py\u001b[0m in \u001b[0;36m__getitem__\u001b[0;34m(self, index)\u001b[0m\n\u001b[1;32m    190\u001b[0m             \u001b[0mtuple\u001b[0m\u001b[0;34m:\u001b[0m \u001b[0;34m(\u001b[0m\u001b[0mimage\u001b[0m\u001b[0;34m,\u001b[0m \u001b[0mtarget\u001b[0m\u001b[0;34m)\u001b[0m \u001b[0mwhere\u001b[0m \u001b[0mtarget\u001b[0m \u001b[0;32mis\u001b[0m \u001b[0mthe\u001b[0m \u001b[0mimage\u001b[0m \u001b[0msegmentation\u001b[0m\u001b[0;34m.\u001b[0m\u001b[0;34m\u001b[0m\u001b[0;34m\u001b[0m\u001b[0m\n\u001b[1;32m    191\u001b[0m         \"\"\"\n\u001b[0;32m--> 192\u001b[0;31m         \u001b[0mimg\u001b[0m \u001b[0;34m=\u001b[0m \u001b[0mImage\u001b[0m\u001b[0;34m.\u001b[0m\u001b[0mopen\u001b[0m\u001b[0;34m(\u001b[0m\u001b[0mself\u001b[0m\u001b[0;34m.\u001b[0m\u001b[0mimages\u001b[0m\u001b[0;34m[\u001b[0m\u001b[0mindex\u001b[0m\u001b[0;34m]\u001b[0m\u001b[0;34m[\u001b[0m\u001b[0;36m0\u001b[0m\u001b[0;34m]\u001b[0m\u001b[0;34m)\u001b[0m\u001b[0;34m.\u001b[0m\u001b[0mconvert\u001b[0m\u001b[0;34m(\u001b[0m\u001b[0;34m'RGB'\u001b[0m\u001b[0;34m)\u001b[0m\u001b[0;34m\u001b[0m\u001b[0;34m\u001b[0m\u001b[0m\n\u001b[0m\u001b[1;32m    193\u001b[0m         \u001b[0mtarget\u001b[0m \u001b[0;34m=\u001b[0m \u001b[0mImage\u001b[0m\u001b[0;34m.\u001b[0m\u001b[0mopen\u001b[0m\u001b[0;34m(\u001b[0m\u001b[0mself\u001b[0m\u001b[0;34m.\u001b[0m\u001b[0mimages\u001b[0m\u001b[0;34m[\u001b[0m\u001b[0mindex\u001b[0m\u001b[0;34m]\u001b[0m\u001b[0;34m[\u001b[0m\u001b[0;36m1\u001b[0m\u001b[0;34m]\u001b[0m\u001b[0;34m)\u001b[0m\u001b[0;34m\u001b[0m\u001b[0;34m\u001b[0m\u001b[0m\n\u001b[1;32m    194\u001b[0m \u001b[0;34m\u001b[0m\u001b[0m\n",
      "\u001b[0;32m~/.local/lib/python3.6/site-packages/PIL/Image.py\u001b[0m in \u001b[0;36mconvert\u001b[0;34m(self, mode, matrix, dither, palette, colors)\u001b[0m\n\u001b[1;32m    932\u001b[0m         \"\"\"\n\u001b[1;32m    933\u001b[0m \u001b[0;34m\u001b[0m\u001b[0m\n\u001b[0;32m--> 934\u001b[0;31m         \u001b[0mself\u001b[0m\u001b[0;34m.\u001b[0m\u001b[0mload\u001b[0m\u001b[0;34m(\u001b[0m\u001b[0;34m)\u001b[0m\u001b[0;34m\u001b[0m\u001b[0;34m\u001b[0m\u001b[0m\n\u001b[0m\u001b[1;32m    935\u001b[0m \u001b[0;34m\u001b[0m\u001b[0m\n\u001b[1;32m    936\u001b[0m         \u001b[0;32mif\u001b[0m \u001b[0;32mnot\u001b[0m \u001b[0mmode\u001b[0m \u001b[0;32mand\u001b[0m \u001b[0mself\u001b[0m\u001b[0;34m.\u001b[0m\u001b[0mmode\u001b[0m \u001b[0;34m==\u001b[0m \u001b[0;34m\"P\"\u001b[0m\u001b[0;34m:\u001b[0m\u001b[0;34m\u001b[0m\u001b[0;34m\u001b[0m\u001b[0m\n",
      "\u001b[0;32m~/.local/lib/python3.6/site-packages/PIL/ImageFile.py\u001b[0m in \u001b[0;36mload\u001b[0;34m(self)\u001b[0m\n\u001b[1;32m    251\u001b[0m \u001b[0;34m\u001b[0m\u001b[0m\n\u001b[1;32m    252\u001b[0m                             \u001b[0mb\u001b[0m \u001b[0;34m=\u001b[0m \u001b[0mb\u001b[0m \u001b[0;34m+\u001b[0m \u001b[0ms\u001b[0m\u001b[0;34m\u001b[0m\u001b[0;34m\u001b[0m\u001b[0m\n\u001b[0;32m--> 253\u001b[0;31m                             \u001b[0mn\u001b[0m\u001b[0;34m,\u001b[0m \u001b[0merr_code\u001b[0m \u001b[0;34m=\u001b[0m \u001b[0mdecoder\u001b[0m\u001b[0;34m.\u001b[0m\u001b[0mdecode\u001b[0m\u001b[0;34m(\u001b[0m\u001b[0mb\u001b[0m\u001b[0;34m)\u001b[0m\u001b[0;34m\u001b[0m\u001b[0;34m\u001b[0m\u001b[0m\n\u001b[0m\u001b[1;32m    254\u001b[0m                             \u001b[0;32mif\u001b[0m \u001b[0mn\u001b[0m \u001b[0;34m<\u001b[0m \u001b[0;36m0\u001b[0m\u001b[0;34m:\u001b[0m\u001b[0;34m\u001b[0m\u001b[0;34m\u001b[0m\u001b[0m\n\u001b[1;32m    255\u001b[0m                                 \u001b[0;32mbreak\u001b[0m\u001b[0;34m\u001b[0m\u001b[0;34m\u001b[0m\u001b[0m\n",
      "\u001b[0;31mKeyboardInterrupt\u001b[0m: "
     ]
    }
   ],
   "source": [
    "data_inc = AdeSegmentationIncremental('/vandal/datasets', labels=[x for x in range(101,151)], labels_old=[x for x in range(101)], masking=True, transform=transforms.ToTensor(), idxs_path=\"../data/ade/100-50-w/train-1.npy\")\n",
    "\n"
   ]
  },
  {
   "cell_type": "code",
   "execution_count": null,
   "metadata": {},
   "outputs": [],
   "source": [
    "idx = random.randint(0, len(data_inc))\n",
    "\n",
    "to_image = tv.transforms.ToPILImage()\n",
    "\n",
    "to_image(data_inc[idx][0])\n"
   ]
  },
  {
   "cell_type": "code",
   "execution_count": 128,
   "metadata": {},
   "outputs": [
    {
     "data": {
      "image/png": "[encoded data removed]",
      "text/plain": [
       "<PIL.Image.Image image mode=L size=683x512 at 0x7F844C867320>"
      ]
     },
     "execution_count": 128,
     "metadata": {},
     "output_type": "execute_result"
    }
   ],
   "source": [
    "to_image(data_inc[idx][1]*20)"
   ]
  },
  {
   "cell_type": "code",
   "execution_count": 129,
   "metadata": {},
   "outputs": [
    {
     "data": {
      "text/plain": [
       "array([  0, 111, 116, 119, 125, 130], dtype=uint8)"
      ]
     },
     "execution_count": 129,
     "metadata": {},
     "output_type": "execute_result"
    }
   ],
   "source": [
    "cls = np.unique(np.array(data_inc[idx][1]))\n",
    "cls"
   ]
  },
  {
   "cell_type": "code",
   "execution_count": 14,
   "metadata": {},
   "outputs": [
    {
     "name": "stdout",
     "output_type": "stream",
     "text": [
      "55 0.9285714285714286 84 78\n",
      "80 0.9846153846153847 65 64\n",
      "89 0.9859154929577465 71 70\n",
      "92 0.9759036144578314 83 81\n",
      "105 0.8686868686868687 99 86\n",
      "108 0.987012987012987 77 76\n",
      "114 0.975 80 78\n",
      "115 0.9830508474576272 59 58\n",
      "118 0.9863013698630136 73 72\n",
      "123 0.9655172413793104 58 56\n",
      "127 0.9381443298969072 97 91\n",
      "141 0.8804347826086957 92 81\n"
     ]
    }
   ],
   "source": [
    "class_members = {}\n",
    "for i,l in enumerate(idxs):\n",
    "    class_members[i]=len(l)\n",
    "    \n",
    "true_length = [11664, 6046, 8265, 9336, 6678, 6604, 4023, 1906, 4688, 2423, 2874, 3068, 5075, 1804, 6666, 4269, 1691, 3999, 2149, 3261, 3164, 709, 3296, 1191, 1516, 667, 651, 1847, 1158, 480, 1172, 1292, 1386, 698, 781, 380, 3089, 404, 804, 1453, 411, 1440, 800, 2650, 549, 367, 311, 1181, 287, 468, 402, 130, 561, 880, 86, 172, 198, 930, 139, 564, 320, 261, 275, 335, 792, 395, 1309, 1112, 266, 659, 331, 531, 369, 144, 265, 324, 304, 170, 68, 65, 248, 492, 2510, 440, 147, 583, 533, 1989, 71, 618, 135, 83, 178, 1003, 182, 452, 42, 307, 965, 117, 354, 108, 557, 52, 99, 57, 292, 77, 340, 66, 465, 50, 622, 80, 59, 531, 282, 73, 435, 136, 116, 266, 58, 418, 319, 1193, 97, 347, 52, 246, 108, 201, 285, 268, 1020, 1282, 528, 453, 671, 397, 92, 228, 570, 217, 206, 130, 178, 504, 775,421]\n",
    "\n",
    "'''for i in range(0,len(true_length)):\n",
    "    if true_length[i]!=class_members[i+1]:\n",
    "        print(i,true_length[i],class_members[i+1])'''\n",
    "\n",
    "#random.seed(42)\n",
    "ordered_classes = (sorted(class_members.items(), key = lambda x : x[1]))\n",
    "imgs_A = set()\n",
    "imgs_B= set()\n",
    "added = {}\n",
    "all_added = set()\n",
    "B={}\n",
    "sets = 5\n",
    "A = [i for i in range(1,101)]\n",
    "for i in range(1,sets+1):\n",
    "    B[i] = [i*100+j for j in range(1,50//sets+1)]\n",
    "\n",
    "random.seed(42)\n",
    "imgs={}\n",
    "others = {}\n",
    "every=set()\n",
    "added = [0 for i in range(151)]\n",
    "for i in range(sets+1):\n",
    "    others[i]=set()\n",
    "    imgs[i]=set()\n",
    "x=80\n",
    "r=1.\n",
    "turns = 100\n",
    "\n",
    "change={}#149:0,136:0}#72:4,, 51:4, 125:4, }\n",
    "for t in range(turns):\n",
    "    before=every.copy()\n",
    "    counter=0\n",
    "    for i,c in ordered_classes:\n",
    "        counter+=1\n",
    "        if (added[i]>=len(idxs[i]) or i==0):# or (counter>100 and not t>20):\n",
    "            continue\n",
    "        \n",
    "        \n",
    "        assignment = i//101 + max((i-101)//(50//sets),0)\n",
    "        if i in change.keys():\n",
    "            assignment=change[i]\n",
    "        class_idx = set(idxs[i]).difference(before.union(others[assignment]))\n",
    "        ns = random.sample(class_idx, min(int(r*len(class_idx)),x))\n",
    "        every.update(ns)\n",
    "        for j in range(len(others)):\n",
    "            if j!=assignment:\n",
    "                others[j].update(ns) \n",
    "        imgs[assignment].update(ns)\n",
    "        added[i] += len(ns)\n",
    "        \n",
    "for i in range(len(added)):        \n",
    "        assignment = i//101 + max((i-101)//(50//sets),0)      \n",
    "        if i in change.keys():\n",
    "            assignment=change[i]\n",
    "        ratio = len(set(idxs[i]).intersection(imgs[assignment]))/class_members[i]\n",
    "        if len(set(idxs[i]).intersection(imgs[assignment]))<class_members[i] and class_members[i]<100:#ratio<0.5:\n",
    "            print(i,ratio, class_members[i], len(set(idxs[i]).intersection(imgs[assignment])))"
   ]
  },
  {
   "cell_type": "code",
   "execution_count": 274,
   "metadata": {},
   "outputs": [
    {
     "name": "stdout",
     "output_type": "stream",
     "text": [
      "51 0.48009950248756217 0.5199004975124378 402 13\n",
      "72 0.4030131826741996 0.5969868173258004 531 14\n",
      "101 0.4774011299435028 0.7259887005649718 354 24\n",
      "103 0.3489208633093525 0.5773381294964028 556 12\n",
      "109 0.4588235294117647 0.7264705882352942 340 12\n",
      "111 0.33548387096774196 0.5548387096774193 465 23\n",
      "113 0.2572347266881029 0.5755627009646302 622 34\n",
      "116 0.36981132075471695 0.6415094339622641 530 38\n",
      "119 0.47417840375586856 0.7230046948356808 213 6\n",
      "124 0.4988009592326139 0.7386091127098321 417 16\n",
      "125 0.40752351097178685 0.7084639498432602 319 9\n",
      "126 0.20067170445004198 0.4861460957178842 1191 88\n",
      "134 0.3656716417910448 0.7201492537313433 268 5\n",
      "135 0.23627450980392156 0.44313725490196076 1020 100\n",
      "136 0.20921155347384857 0.429352068696331 1281 121\n",
      "137 0.35984848484848486 0.6401515151515152 528 19\n",
      "138 0.37610619469026546 0.654867256637168 452 26\n",
      "139 0.2965722801788376 0.6199701937406856 671 43\n",
      "140 0.4332493702770781 0.5717884130982368 397 14\n",
      "143 0.3147482014388489 0.6384892086330936 556 175\n",
      "148 0.3472222222222222 0.6091269841269842 504 175\n",
      "149 0.2884864165588616 0.5148771021992238 773 223\n",
      "150 0.4323040380047506 0.6484560570071258 421 182\n",
      "14500\n",
      "976\n",
      "1032\n",
      "1140\n",
      "1323\n",
      "1225\n",
      "20196\n"
     ]
    }
   ],
   "source": [
    "for i in range(len(added)):        \n",
    "        assignment = i//101 + max((i-101)//(50//sets),0)\n",
    "        if i in change.keys():\n",
    "            assignment=change[i]\n",
    "        ratios = [len(set(idxs[i]).intersection(imgs[j]))/class_members[i] for j in range(0,sets+1)]\n",
    "        if ratios[assignment]<0.5:\n",
    "            print(i,ratios[assignment], sum(ratios[1:]), class_members[i], len(set(idxs[i]).intersection(imgs[j])))\n",
    "s=0\n",
    "for i in range(sets+1):\n",
    "    print(len(imgs[i]))\n",
    "    s+=len(imgs[i])\n",
    "    \n",
    "print(s)\n",
    "    "
   ]
  },
  {
   "cell_type": "code",
   "execution_count": 82,
   "metadata": {},
   "outputs": [
    {
     "name": "stdout",
     "output_type": "stream",
     "text": [
      "1 4 0.7801173627890922 0.9705819196907881 11588 9314\n",
      "1 6 0.5581636175353815 0.9831281349749202 11588 6579\n",
      "2 3 0.837471036080768 0.6140776699029126 6042 8240\n",
      "2 5 0.6593843098311817 0.5969433623014684 6042 6674\n",
      "2 7 0.5566037735849056 0.8428571428571429 6042 3990\n",
      "3 2 0.6140776699029126 0.837471036080768 8240 6042\n",
      "3 5 0.6770631067961165 0.8359304764758765 8240 6674\n",
      "4 1 0.9705819196907881 0.7801173627890922 9314 11588\n",
      "4 6 0.6471977668026626 0.9162486700106399 9314 6579\n",
      "5 2 0.5969433623014684 0.6593843098311817 6674 6042\n",
      "5 3 0.8359304764758765 0.6770631067961165 6674 8240\n",
      "6 1 0.9831281349749202 0.5581636175353815 6579 11588\n",
      "6 4 0.9162486700106399 0.6471977668026626 6579 9314\n",
      "7 2 0.8428571428571429 0.5566037735849056 3990 6042\n",
      "7 12 0.6152882205513784 0.8020254818686704 3990 3061\n",
      "7 21 0.668671679197995 0.8440366972477065 3990 3161\n",
      "12 7 0.8020254818686704 0.6152882205513784 3061 3990\n",
      "12 21 0.6416203854949363 0.6213223663397659 3061 3161\n",
      "16 20 0.5121894045944679 0.6706568446899939 4266 3258\n",
      "16 37 0.503047351148617 0.6960752513785274 4266 3083\n",
      "20 16 0.6706568446899939 0.5121894045944679 3258 4266\n",
      "21 7 0.8440366972477065 0.668671679197995 3161 3990\n",
      "21 12 0.6213223663397659 0.6416203854949363 3161 3061\n",
      "23 37 0.5177541729893779 0.553357119688615 3295 3083\n",
      "24 65 0.5197313182199832 0.7815656565656566 1191 792\n",
      "37 16 0.6960752513785274 0.503047351148617 3083 4266\n",
      "37 23 0.553357119688615 0.5177541729893779 3083 3295\n",
      "55 91 0.8333333333333334 0.5263157894736842 84 133\n",
      "65 24 0.7815656565656566 0.5197313182199832 792 1191\n",
      "67 136 0.6475535168195719 0.6612021857923497 1308 1281\n",
      "91 55 0.5263157894736842 0.8333333333333334 133 84\n",
      "136 67 0.6612021857923497 0.6475535168195719 1281 1308\n"
     ]
    }
   ],
   "source": [
    "r=0.5\n",
    "for i in range(1,150):\n",
    "    set1 = set(idxs[i])\n",
    "    for j in range(1,151):\n",
    "        if i==j:\n",
    "            continue\n",
    "        intersection = set1.intersection(idxs[j])\n",
    "        it = len(intersection)\n",
    "        r1 = (it+0.0)/len(set1)\n",
    "        r2 = (it+0.0)/len(idxs[j])\n",
    "        if r1>r and r2>r:\n",
    "            print(i,j,r1,r2,len(set1),len(idxs[j]))"
   ]
  },
  {
   "cell_type": "code",
   "execution_count": 106,
   "metadata": {},
   "outputs": [
    {
     "name": "stdout",
     "output_type": "stream",
     "text": [
      "20196\n",
      "20196\n"
     ]
    }
   ],
   "source": [
    "class_members = {}\n",
    "for i,l in enumerate(idxs):\n",
    "    if i==0:\n",
    "        continue\n",
    "    class_members[i]=len(l)\n",
    "    \n",
    "true_length = [11664, 6046, 8265, 9336, 6678, 6604, 4023, 1906, 4688, 2423, 2874, 3068, 5075, 1804, 6666, 4269, 1691, 3999, 2149, 3261, 3164, 709, 3296, 1191, 1516, 667, 651, 1847, 1158, 480, 1172, 1292, 1386, 698, 781, 380, 3089, 404, 804, 1453, 411, 1440, 800, 2650, 549, 367, 311, 1181, 287, 468, 402, 130, 561, 880, 86, 172, 198, 930, 139, 564, 320, 261, 275, 335, 792, 395, 1309, 1112, 266, 659, 331, 531, 369, 144, 265, 324, 304, 170, 68, 65, 248, 492, 2510, 440, 147, 583, 533, 1989, 71, 618, 135, 83, 178, 1003, 182, 452, 42, 307, 965, 117, 354, 108, 557, 52, 99, 57, 292, 77, 340, 66, 465, 50, 622, 80, 59, 531, 282, 73, 435, 136, 116, 266, 58, 418, 319, 1193, 97, 347, 52, 246, 108, 201, 285, 268, 1020, 1282, 528, 453, 671, 397, 92, 228, 570, 217, 206, 130, 178, 504, 775,421]\n",
    "\n",
    "'''for i in range(0,len(true_length)):\n",
    "    if true_length[i]!=class_members[i+1]:\n",
    "        print(i,true_length[i],class_members[i+1])'''\n",
    "\n",
    "#random.seed(42)\n",
    "a = np.arange(151) \n",
    "a=a[1:]\n",
    "a=np.random.permutation(a)\n",
    "ordered_classes = class_members.items()#(sorted(class_members.items(), key = lambda x : x[1]))\n",
    "\n",
    "all_images = set()\n",
    "for i,v in ordered_classes:\n",
    "    all_images.update(list(idxs[i]))\n",
    "print(len(all_images))\n",
    "imgs_to_cls = {}\n",
    "for j,v in ordered_classes:\n",
    "        for i in list(idxs[j]):\n",
    "            if not i in imgs_to_cls.keys():\n",
    "                imgs_to_cls[i]=[]\n",
    "            imgs_to_cls[i].append(j)\n",
    "print(len(imgs_to_cls))"
   ]
  },
  {
   "cell_type": "code",
   "execution_count": 165,
   "metadata": {},
   "outputs": [],
   "source": [
    "for i in imgs_to_cls.keys():\n",
    "    if len(imgs_to_cls[i])<1:\n",
    "        print(i)"
   ]
  },
  {
   "cell_type": "code",
   "execution_count": 304,
   "metadata": {},
   "outputs": [
    {
     "name": "stdout",
     "output_type": "stream",
     "text": [
      "{0: [2, 6, 7, 17, 18, 24, 26, 30, 32, 33, 36, 37, 41, 42, 44, 45, 46, 50, 51, 53, 59, 64, 74, 75, 77, 79, 93, 94, 97, 100, 102, 103, 109, 110, 114, 119, 120, 122, 123, 125, 126, 129, 133, 137, 139, 140, 143, 144, 146, 147], 1: [9, 12, 14, 16, 22, 27, 28, 29, 31, 35, 38, 40, 43, 47, 49, 54, 55, 56, 57, 58, 62, 63, 65, 68, 69, 76, 80, 82, 84, 85, 88, 90, 91, 92, 95, 99, 104, 106, 107, 108, 112, 113, 116, 118, 121, 132, 134, 136, 138, 149], 2: [1, 3, 4, 5, 8, 10, 11, 13, 15, 19, 20, 21, 23, 25, 34, 39, 48, 52, 60, 61, 66, 67, 70, 71, 72, 73, 78, 81, 83, 86, 87, 89, 96, 98, 101, 105, 111, 115, 117, 124, 127, 128, 130, 131, 135, 141, 142, 145, 148, 150]}\n",
      "{0: 50, 1: 50, 2: 50}\n"
     ]
    },
    {
     "data": {
      "text/plain": [
       "2"
      ]
     },
     "execution_count": 304,
     "metadata": {},
     "output_type": "execute_result"
    }
   ],
   "source": [
    "base_len = 50\n",
    "inc_len = 50\n",
    "sets = 2\n",
    "\n",
    "order = np.arange(1,151)\n",
    "np.random.shuffle(order)\n",
    "\n",
    "map_set_to_class = {}\n",
    "map_class_to_set = {}\n",
    "\n",
    "map_set_to_class[0] = order[0:base_len]\n",
    "map_class_to_set.update({x:0 for x in map_set_to_class[0]})\n",
    "offset = base_len\n",
    "for i in range(1, sets+1):\n",
    "    map_set_to_class[i] = order[offset : offset + inc_len]\n",
    "    offset = offset + inc_len\n",
    "    map_class_to_set.update({x:i for x in map_set_to_class[i]})\n",
    "\n",
    "print({i:sorted(list(x)) for i,x in map_set_to_class.items()})\n",
    "print({i:len(x) for i,x in map_set_to_class.items()})\n",
    "\n",
    "map_class_to_set[1]\n"
   ]
  },
  {
   "cell_type": "code",
   "execution_count": 384,
   "metadata": {},
   "outputs": [
    {
     "name": "stdout",
     "output_type": "stream",
     "text": [
      "{0: [5, 10, 11, 12, 13, 16, 17, 19, 20, 23, 27, 28, 30, 31, 32, 33, 37, 43, 46, 52, 56, 57, 65, 66, 69, 70, 74, 76, 77, 79, 82, 83, 86, 87, 105, 109, 110, 111, 119, 128, 129, 132, 133, 134, 138, 142, 143, 144, 146, 147], 1: [1, 6, 8, 9, 14, 24, 25, 26, 29, 34, 35, 36, 40, 41, 44, 45, 48, 50, 54, 61, 63, 67, 68, 71, 78, 81, 84, 85, 90, 94, 95, 96, 97, 98, 99, 102, 106, 112, 114, 115, 118, 120, 121, 123, 124, 126, 135, 136, 139, 149], 2: [2, 3, 4, 7, 15, 18, 21, 22, 38, 39, 42, 47, 49, 51, 53, 55, 58, 59, 60, 62, 64, 72, 73, 75, 80, 88, 89, 91, 92, 93, 100, 101, 103, 104, 107, 108, 113, 116, 117, 122, 125, 127, 130, 131, 137, 140, 141, 145, 148, 150]}\n",
      "{0: 50, 1: 50, 2: 50}\n",
      "1 0.31653434587504314 0.630738695201933 11588 3668\n",
      "2 0.3766964581264482 0.6709698775239987 6042 2276\n",
      "3 0.35012135922330095 0.6474514563106796 8240 2885\n",
      "4 0.3062057118316513 0.6173502254670389 9314 2852\n",
      "5 0.3739886125262212 0.6260113874737788 6674 2496\n",
      "6 0.30886152910776715 0.6090591275269798 6579 2032\n",
      "7 0.3556390977443609 0.6799498746867167 3990 1419\n",
      "8 0.41205479452054794 0.7095890410958904 1825 752\n",
      "9 0.3078728397695754 0.6116919138041391 4687 1443\n",
      "10 0.3940520446096654 0.6059479553903346 2421 954\n",
      "11 0.3879340582251841 0.6120659417748159 2851 1106\n",
      "12 0.3459653707938582 0.6540346292061419 3061 1059\n",
      "13 0.3783783783783784 0.6216216216216216 5069 1918\n",
      "14 0.43662758235622556 0.7191513121161363 1791 782\n",
      "15 0.33577533577533575 0.6343101343101343 3276 1100\n",
      "16 0.38771683075480545 0.6122831692451945 4266 1654\n",
      "17 0.47928994082840237 0.5207100591715976 1690 810\n",
      "18 0.34918648310387984 0.6838548185231539 3995 1395\n",
      "19 0.38314711359404097 0.616852886405959 2148 823\n",
      "20 0.4125230202578269 0.587476979742173 3258 1344\n",
      "21 0.3888010123378678 0.7155963302752294 3161 1229\n",
      "23 0.4006069802731411 0.5993930197268589 3295 1320\n",
      "24 0.38287153652392947 0.6036943744752309 1191 456\n",
      "25 0.3603988603988604 0.641025641025641 1404 506\n",
      "28 0.35231895850284783 0.6476810414971521 1229 433\n",
      "29 0.3754416961130742 0.6492932862190812 1132 425\n",
      "31 0.3993174061433447 0.6006825938566552 1172 468\n",
      "33 0.4339350180505415 0.5660649819494585 1385 601\n",
      "34 0.30802292263610315 0.6590257879656161 698 215\n",
      "37 0.36555303276029844 0.6344469672397015 3083 1127\n",
      "38 0.47029702970297027 0.7004950495049505 404 190\n",
      "39 0.4806973848069738 0.726027397260274 803 386\n",
      "40 0.39875604699378026 0.6482377332411887 1447 577\n",
      "42 0.3695198329853862 0.697981906750174 1437 531\n",
      "43 0.4530663329161452 0.5469336670838548 799 362\n",
      "44 0.3707482993197279 0.7150415721844294 2646 981\n",
      "45 0.4408014571948998 0.6830601092896175 549 242\n",
      "48 0.2235393734123624 0.6138865368331923 1181 264\n",
      "54 0.49204545454545456 0.7647727272727273 880 433\n",
      "55 0.9166666666666666 0.988095238095238 84 77\n",
      "58 0.3580645161290323 0.7301075268817205 930 333\n",
      "65 0.43813131313131315 0.5618686868686869 792 347\n",
      "67 0.35244648318042815 0.6276758409785933 1308 461\n",
      "68 0.4118705035971223 0.670863309352518 1112 458\n",
      "72 0.480225988700565 0.5461393596986818 531 255\n",
      "80 0.9846153846153847 1.0 65 64\n",
      "82 0.4349593495934959 0.5650406504065041 492 214\n",
      "83 0.4138755980861244 0.5861244019138756 2508 1038\n",
      "88 0.4192249622546553 0.7322596879718168 1987 833\n",
      "89 0.9859154929577465 1.0 71 70\n",
      "90 0.4482200647249191 0.6844660194174758 618 277\n",
      "92 0.963855421686747 1.0 83 80\n",
      "94 0.4657258064516129 0.783266129032258 992 462\n",
      "99 0.32538860103626943 0.6549222797927461 965 314\n",
      "104 0.9807692307692307 0.9807692307692307 52 51\n",
      "105 0.9191919191919192 0.08080808080808081 99 91\n",
      "107 0.9696969696969697 0.9848484848484849 66 64\n",
      "108 0.974025974025974 1.0 77 75\n",
      "110 0.9696969696969697 0.030303030303030304 66 64\n",
      "113 0.43729903536977494 0.6864951768488746 622 272\n",
      "114 0.9125 0.95 80 73\n",
      "123 0.9827586206896551 1.0 58 57\n",
      "126 0.3677581863979849 0.6616288832913518 1191 438\n",
      "127 0.9484536082474226 0.9690721649484536 97 92\n",
      "129 0.9807692307692307 0.019230769230769232 52 51\n",
      "131 0.8981481481481481 0.9814814814814815 108 97\n",
      "135 0.4117647058823529 0.6647058823529411 1020 420\n",
      "136 0.35753317720530836 0.6284153005464481 1281 458\n",
      "139 0.4113263785394933 0.7645305514157973 671 276\n",
      "141 0.9347826086956522 0.9673913043478262 92 86\n",
      "149 0.4191461836998706 0.6959896507115135 773 324\n",
      "7510\n",
      "6224\n",
      "6462\n",
      "20196\n"
     ]
    }
   ],
   "source": [
    "all_added = set()\n",
    "sets = 2\n",
    "\n",
    "base_len = 50\n",
    "inc_len = 50\n",
    "\n",
    "assert base_len + inc_len*sets == 150\n",
    "\n",
    "np.random.seed(42)\n",
    "random.seed(42)\n",
    "\n",
    "order = np.arange(1,151)\n",
    "np.random.shuffle(order)\n",
    "\n",
    "map_set_to_class = {}\n",
    "map_class_to_set = {}\n",
    "\n",
    "map_set_to_class[0] = order[0:base_len]\n",
    "map_class_to_set.update({x:0 for x in map_set_to_class[0]})\n",
    "offset = base_len\n",
    "for i in range(1, sets+1):\n",
    "    map_set_to_class[i] = order[offset : offset + inc_len]\n",
    "    offset = offset + inc_len\n",
    "    map_class_to_set.update({x:i for x in map_set_to_class[i]})\n",
    "\n",
    "print({i:sorted(list(x)) for i,x in map_set_to_class.items()})\n",
    "print({i:len(x) for i,x in map_set_to_class.items()})\n",
    "\n",
    "\n",
    "imgs={}\n",
    "others = {}\n",
    "every=set()\n",
    "added = [0 for i in range(151)]\n",
    "for i in range(sets+1):\n",
    "    others[i]=set()\n",
    "    imgs[i]=set()\n",
    "\n",
    "def count_assign(x,l):\n",
    "    c=0\n",
    "    for e in l:\n",
    "        if x==e:\n",
    "            c+=1\n",
    "    return c\n",
    "\n",
    "def score(ratio,imgs,expected,minval=False,w1=120,w2=1000,w3=1 ):\n",
    "    return (1.-ratio)*w1+w3*minval\n",
    "\n",
    "#change={149:0,136:0}#72:4,, 51:4, 125:4, }\n",
    "for i in imgs_to_cls.keys():\n",
    "    img_counts = [class_members[j] for j in imgs_to_cls[i]]\n",
    "    ratios = [(added[j]+0.0)/class_members[j] for j in imgs_to_cls[i]]\n",
    "    added_counts = [added[j] for j in imgs_to_cls[i]]\n",
    "    assignments = [map_class_to_set[j] for j in imgs_to_cls[i]]\n",
    "    ca = [count_assign(i,assignments) for i in range(sets+1)]\n",
    "    \n",
    "    scores = [score(ratios[c],added_counts[c],class_members[j],1./(img_counts[c]/sum(img_counts))) for c,j in enumerate(imgs_to_cls[i])]\n",
    "    \n",
    "    ca[0]=ca[0]/10\n",
    "    cl = scores.index(max(scores))\n",
    "    a=assignments[cl]\n",
    "        \n",
    "    imgs[a].update([i])\n",
    "    for j,ac in enumerate(assignments):\n",
    "        if ac==a:\n",
    "            added[imgs_to_cls[i][j]] += 1\n",
    "            \n",
    "            \n",
    "for i in range(1,len(added)):        \n",
    "        assignment = map_class_to_set[i]\n",
    "        ratios = [len(set(idxs[i]).intersection(imgs[j]))/class_members[i] for j in range(0,sets+1)]\n",
    "        if ratios[assignment]<0.5 or (ratios[assignment]<1. and added[i]<100):\n",
    "            print(i,ratios[assignment], sum(ratios[1:]), class_members[i], len(set(idxs[i]).intersection(imgs[assignment])))\n",
    "s=0\n",
    "for i in range(sets+1):\n",
    "    print(len(imgs[i]))\n",
    "    s+=len(imgs[i])\n",
    "    \n",
    "print(s)\n",
    "            \n"
   ]
  },
  {
   "cell_type": "code",
   "execution_count": 385,
   "metadata": {},
   "outputs": [
    {
     "name": "stdout",
     "output_type": "stream",
     "text": [
      "0 0 1\n",
      "0 0 2\n",
      "0 1 2\n"
     ]
    }
   ],
   "source": [
    "for i in range(0,sets+1):\n",
    "    for j in range(i+1,sets+1):\n",
    "        it = len(set(imgs[i]).intersection(imgs[j]))\n",
    "        print(it,i,j)"
   ]
  },
  {
   "cell_type": "code",
   "execution_count": 386,
   "metadata": {},
   "outputs": [
    {
     "name": "stdout",
     "output_type": "stream",
     "text": [
      "[ 74  19 119  79  77  32  65 142  69  83 111  13  37  10  20  57 105  70\n",
      "  56 133  30 128  27 129 132 146 109 144  46  31  23  16  66  12  43 147\n",
      "  52  28   5  33 143  86  87  17  11  82 134 138  76 110  97 106  67   1\n",
      " 123  68  29  41  45  61 124  25  26  24  95  40  96 118  48  98 114  34\n",
      " 139 102  63  85 149  54   6  94 112  50  36  81  78  35 115   8  44  71\n",
      "  99 121  84 135 136  90   9  14 120 126   4  18  39  73 137   7 113 101\n",
      "   3  64  55 127  51 116  47 140  62 148  80  60  92  42  59  91  49  89\n",
      " 108 125  22  58 145 130  38 141   2  53 131 104 100 117  88  75 122 150\n",
      "  21  72 107  15  93 103]\n"
     ]
    }
   ],
   "source": [
    "print(str((order)))\n",
    "path = '../data/ade/'\n",
    "with open(path + 'order-b.txt', 'w') as f:\n",
    "    f.write(str(order))"
   ]
  },
  {
   "cell_type": "code",
   "execution_count": 387,
   "metadata": {
    "scrolled": true
   },
   "outputs": [
    {
     "name": "stdout",
     "output_type": "stream",
     "text": [
      "7510\n",
      "6224\n",
      "6462\n"
     ]
    }
   ],
   "source": [
    "path = '../data/ade/50c/'\n",
    "os.makedirs(path, exist_ok=True)\n",
    "with open(path + 'order.txt', 'w') as f:\n",
    "    f.write(str({i:sorted(list(x)) for i,x in map_set_to_class.items()}))\n",
    "for i in range(0,sets+1):\n",
    "    np.save(path + 'train-'+str(i)+'.npy',  np.array(list(imgs[i])))\n",
    "    print(len(imgs[i]))"
   ]
  },
  {
   "cell_type": "code",
   "execution_count": 381,
   "metadata": {},
   "outputs": [],
   "source": [
    "path = '../data/ade/100-50c/'\n",
    "\n",
    "img_50 = imgs[1].union(imgs[2]).union(imgs[3]).union(imgs[4]).union(imgs[5])\n",
    "\n",
    "map_set_to_class_50 = {}\n",
    "map_set_to_class_50[0] = sorted(list(map_set_to_class[0]))\n",
    "map_set_to_class_50[1] = sorted([j for i in range(1,sets+1) for j in map_set_to_class[i]])\n",
    "map_set_to_class_50\n",
    "\n",
    "os.makedirs(path, exist_ok=True)\n",
    "with open(path + 'order.txt', 'w') as f:\n",
    "    f.write(str({i:sorted(list(x)) for i,x in map_set_to_class_50.items()}))\n",
    "\n",
    "np.save(path + 'train-0.npy',  np.array(list(imgs[0])))\n",
    "np.save(path + 'train-1.npy', np.array(list(img_50)))"
   ]
  },
  {
   "cell_type": "code",
   "execution_count": null,
   "metadata": {},
   "outputs": [],
   "source": []
  }
 ],
 "metadata": {
  "kernelspec": {
   "display_name": "Python 3",
   "language": "python",
   "name": "python3"
  },
  "language_info": {
   "codemirror_mode": {
    "name": "ipython",
    "version": 3
   },
   "file_extension": ".py",
   "mimetype": "text/x-python",
   "name": "python",
   "nbconvert_exporter": "python",
   "pygments_lexer": "ipython3",
   "version": "3.6.8"
  }
 },
 "nbformat": 4,
 "nbformat_minor": 2
}
